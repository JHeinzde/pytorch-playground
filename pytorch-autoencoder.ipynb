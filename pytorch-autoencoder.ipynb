{
 "cells": [
  {
   "cell_type": "code",
   "execution_count": 2,
   "metadata": {
    "collapsed": true,
    "ExecuteTime": {
     "start_time": "2023-04-19T21:04:30.050063Z",
     "end_time": "2023-04-19T21:04:34.633057Z"
    }
   },
   "outputs": [
    {
     "data": {
      "text/plain": "<torch._C.Generator at 0x204042ccdf0>"
     },
     "execution_count": 2,
     "metadata": {},
     "output_type": "execute_result"
    }
   ],
   "source": [
    "import torch\n",
    "from torch import nn\n",
    "import random\n",
    "import matplotlib.pyplot as plt\n",
    "\n",
    "device = 'cuda'\n",
    "\n",
    "XOR_DATA = [[0, 0], [1, 0], [0, 1], [1, 1]]\n",
    "XOR_TARGETS = [[0], [1], [1], [0]]\n",
    "\n",
    "X = torch.tensor(XOR_DATA, dtype=torch.float32).to(device)\n",
    "Y = torch.tensor(XOR_TARGETS, dtype=torch.float32).to(device)\n",
    "\n",
    "\n",
    "class MLP(nn.Module):\n",
    "    def __init__(self):\n",
    "        super().__init__()\n",
    "        self.layers = torch.nn.Sequential(\n",
    "            nn.Linear(2, 2, bias=True),\n",
    "            nn.Sigmoid(),\n",
    "            nn.Linear(2, 1, bias=True),\n",
    "            nn.Sigmoid()\n",
    "        ).to(device)\n",
    "\n",
    "    def forward(self, x):\n",
    "        return self.layers(x)\n",
    "\n",
    "\n",
    "torch.manual_seed(42)\n",
    "#trainloader = torch.utils.data.DataLoader(list(zip(X, Y)), batch_size=1)\n",
    "#mlp = MLP()\n",
    "#\n",
    "#loss_function = nn.MSELoss().to(device)\n",
    "#optimizer = torch.optim.SGD(mlp.parameters(), lr=0.1)\n",
    "#\n",
    "#for epoch in range(0, 10000):\n",
    "#    current_loss = 0.0\n",
    "#    for i, data in enumerate(trainloader, 0):\n",
    "#        inputs, targets = data\n",
    "#        optimizer.zero_grad()\n",
    "#        outputs = mlp(inputs)\n",
    "#        loss = loss_function(outputs, targets)\n",
    "#        loss.backward()\n",
    "#        optimizer.step()\n",
    "#        current_loss += loss.item()\n",
    "#\n",
    "#print(mlp.forward(X))\n",
    "#print('Training process has finished')"
   ]
  },
  {
   "cell_type": "code",
   "execution_count": 25,
   "outputs": [
    {
     "name": "stdout",
     "output_type": "stream",
     "text": [
      "tensor([ 7.7094, 24.4851,  7.0438, 22.4484,  8.8801, 21.1668,  6.9403, 21.7538,\n",
      "         7.6987, 24.7101,  9.9422, 23.7332,  9.4883, 24.6467,  8.8885, 24.5061,\n",
      "         5.9893, 21.4705,  8.0084, 21.8258], device='cuda:0')\n",
      "tensor([ 8.2568, 23.9925,  7.6952, 21.3555,  7.3715, 22.8786,  6.3956, 24.3182,\n",
      "         7.0310, 23.3925,  9.2764, 22.1715,  8.3241, 22.6218,  8.2574, 23.0093,\n",
      "         6.5855, 23.1869,  8.2603, 23.2658], device='cuda:0',\n",
      "       grad_fn=<SqueezeBackward4>)\n",
      "tensor(22.6479, device='cuda:0', grad_fn=<SumBackward0>)\n",
      "was here\n",
      "was here\n",
      "was here\n",
      "was here\n",
      "was here\n",
      "was here\n",
      "was here\n",
      "was here\n",
      "was here\n",
      "was here\n",
      "was here\n",
      "was here\n",
      "was here\n",
      "was here\n",
      "was here\n",
      "was here\n",
      "was here\n",
      "was here\n",
      "was here\n",
      "was here\n",
      "200\n",
      "200\n",
      "[23.992508, 21.355457, 22.878567, 24.318197, 23.392532, 22.17154, 22.621828, 23.009254, 23.18687, 23.265846, 23.992252, 21.355244, 22.878338, 24.317936, 23.392277, 22.171316, 22.621601, 23.009014, 23.186602, 23.265575, 23.992348, 21.355322, 22.878424, 24.318031, 23.392372, 22.1714, 22.621685, 23.009106, 23.186699, 23.265676, 23.992455, 21.355412, 22.878515, 24.318144, 23.392475, 22.171492, 22.62178, 23.009201, 23.186817, 23.26579, 23.992346, 21.35532, 22.878418, 24.318031, 23.39237, 22.171394, 22.621681, 23.0091, 23.186703, 23.265678, 23.992477, 21.355427, 22.87853, 24.318165, 23.3925, 22.171509, 22.621796, 23.009224, 23.186846, 23.26582, 23.992292, 21.355278, 22.878376, 24.317978, 23.392319, 22.171354, 22.621635, 23.009054, 23.186646, 23.265621, 23.992432, 21.355392, 22.878494, 24.318117, 23.392454, 22.17147, 22.621758, 23.00918, 23.18679, 23.265766, 23.992477, 21.35543, 22.878536, 24.318163, 23.392498, 22.17151, 22.6218, 23.009222, 23.186836, 23.26581, 23.992367, 21.355331, 22.878428, 24.318054, 23.392391, 22.17141, 22.621696, 23.009119, 23.186733, 23.265709, 23.99229, 21.355278, 22.878378, 24.317974, 23.392315, 22.171352, 22.621637, 23.009052, 23.186638, 23.265614, 23.99247, 21.355423, 22.878529, 24.318161, 23.392496, 22.171503, 22.621792, 23.00922, 23.18684, 23.265814, 23.992498, 21.35545, 22.878555, 24.318184, 23.392519, 22.17153, 22.62182, 23.009243, 23.18686, 23.265835, 23.992453, 21.355404, 22.878511, 24.318146, 23.392483, 22.171488, 22.621777, 23.009209, 23.186821, 23.2658, 23.992393, 21.355358, 22.87846, 24.31808, 23.392418, 22.171438, 22.621723, 23.009146, 23.186756, 23.26573, 23.992458, 21.355415, 22.878525, 24.318146, 23.392483, 22.171495, 22.621784, 23.009209, 23.186813, 23.265793, 23.992374, 21.355345, 22.878447, 24.318062, 23.3924, 22.171423, 22.621708, 23.00913, 23.186733, 23.265709, 23.992416, 21.355385, 22.87849, 24.3181, 23.39244, 22.171463, 22.62175, 23.00917, 23.186764, 23.26574, 23.992504, 21.355453, 22.87856, 24.318192, 23.392527, 22.171535, 22.621822, 23.009249, 23.18687, 23.265844, 23.99255, 21.35549, 22.878605, 24.318241, 23.392576, 22.171576, 22.621868, 23.009298, 23.186913, 23.265892]\n"
     ]
    }
   ],
   "source": [
    "class AutoEncoder(nn.Module):\n",
    "    def __init__(self):\n",
    "        super().__init__()\n",
    "        self.layers = torch.nn.Sequential(\n",
    "            nn.Linear(20, 20, bias=False),\n",
    "            nn.Sigmoid(),\n",
    "            nn.Linear(20, 20, bias=False),\n",
    "            nn.Sigmoid(),\n",
    "            nn.Linear(20, 5, bias=False),\n",
    "            nn.Sigmoid(),\n",
    "            nn.Linear(5, 20, bias=False),\n",
    "            nn.Sigmoid(),\n",
    "            nn.Linear(20, 20, bias=False),\n",
    "            nn.Sigmoid(),\n",
    "            nn.Linear(20, 20, bias=False)\n",
    "        ).to(device)\n",
    "\n",
    "    def forward(self, x):\n",
    "        return self.layers(x)\n",
    "\n",
    "\n",
    "X = (5, 10)\n",
    "Y = (20, 25)\n",
    "\n",
    "training_samples = []\n",
    "for i in range(200):\n",
    "    training_samples.append([random.uniform(X[0], X[1]), random.uniform(Y[0], Y[1])])\n",
    "\n",
    "transformed_data = []\n",
    "\n",
    "for i in range(0, 200, 10):\n",
    "    sample = training_samples[i:i + 10]\n",
    "    t_data = []\n",
    "    for x, y in sample:\n",
    "        t_data.append(x)\n",
    "        t_data.append(y)\n",
    "    transformed_data.append(t_data)\n",
    "\n",
    "transformed_data = torch.tensor(transformed_data, dtype=torch.float32).to(device)\n",
    "train_loader = torch.utils.data.DataLoader(list(zip(transformed_data, transformed_data)), batch_size=1)\n",
    "loss_function = nn.L1Loss(reduction='sum').to(device)\n",
    "ae = AutoEncoder()\n",
    "optimizer = torch.optim.SGD(ae.parameters(), lr=0.001)\n",
    "losses = []\n",
    "for epoch in range(0, 20):\n",
    "    current_loss = 0.0\n",
    "    for i, data in enumerate(train_loader, 0):\n",
    "        inputs, targets = data\n",
    "        optimizer.zero_grad()\n",
    "        outputs = ae(inputs)\n",
    "        loss = loss_function(outputs, targets) * loss_function(outputs, targets)\n",
    "        loss.backward()\n",
    "        optimizer.step()\n",
    "        current_loss += loss.item()\n",
    "    losses.append(current_loss)\n",
    "\n",
    "b = transformed_data[0]\n",
    "print(b)\n",
    "a = ae.forward(transformed_data[0])\n",
    "print(a)\n",
    "print(loss_function(a, b))\n",
    "\n",
    "second_x = []\n",
    "second_y = []\n",
    "for d in transformed_data:\n",
    "    s = ae.forward(d).cpu().detach().numpy()\n",
    "    for i in range(0, 20, 2):\n",
    "        second_x.append(s[i])\n",
    "        second_y.append(s[i+1])\n",
    "\n",
    "print(len(second_x))\n",
    "print(len(second_y))\n",
    "print(second_y)"
   ],
   "metadata": {
    "collapsed": false,
    "ExecuteTime": {
     "start_time": "2023-04-19T22:54:39.524032Z",
     "end_time": "2023-04-19T22:54:40.424159Z"
    }
   }
  },
  {
   "cell_type": "code",
   "execution_count": 26,
   "outputs": [
    {
     "data": {
      "text/plain": "<Figure size 640x480 with 1 Axes>",
      "image/png": "[encoded data removed]"
     },
     "metadata": {},
     "output_type": "display_data"
    }
   ],
   "source": [
    "figure, axes = plt.subplots()\n",
    "#axes.set(xlim=(.0, 1.), ylim=(.0, 1.))\n",
    "uc_3 = plt.Rectangle((5, 20), 5, 5, fill=False)\n",
    "\n",
    "points_1 = plt.scatter(list(map(lambda x: x[0], training_samples)), list(map(lambda x: x[1], training_samples)),\n",
    "                       color=\"red\", s=10)\n",
    "points_2 = plt.scatter(second_x, second_y,\n",
    "                       color=\"green\", s=5)\n",
    "axes.add_artist(uc_3)\n",
    "plt.show()"
   ],
   "metadata": {
    "collapsed": false,
    "ExecuteTime": {
     "start_time": "2023-04-19T22:54:50.245039Z",
     "end_time": "2023-04-19T22:54:50.426036Z"
    }
   }
  },
  {
   "cell_type": "code",
   "execution_count": null,
   "outputs": [],
   "source": [],
   "metadata": {
    "collapsed": false
   }
  }
 ],
 "metadata": {
  "kernelspec": {
   "display_name": "Python 3",
   "language": "python",
   "name": "python3"
  },
  "language_info": {
   "codemirror_mode": {
    "name": "ipython",
    "version": 2
   },
   "file_extension": ".py",
   "mimetype": "text/x-python",
   "name": "python",
   "nbconvert_exporter": "python",
   "pygments_lexer": "ipython2",
   "version": "2.7.6"
  }
 },
 "nbformat": 4,
 "nbformat_minor": 0
}
